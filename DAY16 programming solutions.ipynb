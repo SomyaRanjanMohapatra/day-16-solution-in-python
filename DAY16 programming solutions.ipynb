{
 "cells": [
  {
   "cell_type": "code",
   "execution_count": 21,
   "metadata": {},
   "outputs": [
    {
     "name": "stdout",
     "output_type": "stream",
     "text": [
      "Enter a string: bbabbbaaabccd\n",
      "b\n",
      "a\n",
      "aaaaaaaaaaccd\n"
     ]
    }
   ],
   "source": [
    "string=input(\"Enter a string: \")   #taking input from the user\n",
    "\n",
    "list=[]                              #storing the characters of string in a list\n",
    "for i in string:\n",
    "    list.append(i)                    \n",
    "list.sort()\n",
    "\n",
    "list1=[]                            #creating another list from the previous list in which elements are not repeated\n",
    "list1.append(list[0])\n",
    "for j in list:\n",
    "    if(j not in list1):               \n",
    "        list1.append(j)\n",
    "\n",
    "counts=[]                            #creating another list to store the frequency of the elements\n",
    "for x in list1:\n",
    "    counts.append(list.count(x))\n",
    "\n",
    "countss=sorted(counts)                \n",
    "\n",
    "first=counts.index(countss[-1])     \n",
    "max=list1[first]\n",
    "print(max)                            #storing the value of most frequent character in max\n",
    "\n",
    "second=counts.index(countss[-2])\n",
    "second_max=list1[second]\n",
    "print(second_max)                   #storing the value of second most frequent character in second_max\n",
    "\n",
    "result=(string.replace(max,second_max))   #replacing max with second_max\n",
    "print(result)            \n",
    "\n"
   ]
  },
  {
   "cell_type": "code",
   "execution_count": 3,
   "metadata": {},
   "outputs": [
    {
     "name": "stdout",
     "output_type": "stream",
     "text": [
      "(10, 20, 30)\n"
     ]
    }
   ],
   "source": [
    "a=10 \n",
    "b=20\n",
    "c=30\n",
    "print(a,b, c)"
   ]
  },
  {
   "cell_type": "code",
   "execution_count": null,
   "metadata": {},
   "outputs": [],
   "source": []
  },
  {
   "cell_type": "code",
   "execution_count": null,
   "metadata": {},
   "outputs": [],
   "source": []
  },
  {
   "cell_type": "code",
   "execution_count": null,
   "metadata": {},
   "outputs": [],
   "source": []
  }
 ],
 "metadata": {
  "kernelspec": {
   "display_name": "Python 2",
   "language": "python",
   "name": "python2"
  },
  "language_info": {
   "codemirror_mode": {
    "name": "ipython",
    "version": 2
   },
   "file_extension": ".py",
   "mimetype": "text/x-python",
   "name": "python",
   "nbconvert_exporter": "python",
   "pygments_lexer": "ipython2",
   "version": "2.7.16"
  }
 },
 "nbformat": 4,
 "nbformat_minor": 4
}
